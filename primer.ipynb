{
 "cells": [
  {
   "cell_type": "code",
   "execution_count": null,
   "id": "c2d38d21",
   "metadata": {},
   "outputs": [],
   "source": [
    "import matplotlib.pyplot as plt\n",
    "%matplotlib inline"
   ]
  },
  {
   "cell_type": "markdown",
   "id": "4bdfa0bd",
   "metadata": {},
   "source": [
    "### Построение графика"
   ]
  },
  {
   "cell_type": "code",
   "execution_count": null,
   "id": "04581df2",
   "metadata": {},
   "outputs": [],
   "source": [
    "import numpy as np\n",
    "# Независимая (x) и зависимая (y) переменные\n",
    "x = np.linspace(0, 10, 50)\n",
    "y = x\n",
    "# Построение графика\n",
    "plt.title(\"Линейная зависимость y = x\") # заголовок\n",
    "plt.xlabel(\"x\") # ось абсцисс\n",
    "plt.ylabel(\"y\") # ось ординат\n",
    "plt.grid() # включение отображение сетки\n",
    "plt.plot(x, y) # построение графика"
   ]
  },
  {
   "cell_type": "code",
   "execution_count": null,
   "id": "d7aa8c4e",
   "metadata": {},
   "outputs": [],
   "source": [
    "# Построение графика\n",
    "plt.title(\"Линейная зависимость y = x\") # заголовок\n",
    "plt.xlabel(\"x\") # ось абсцисс\n",
    "plt.ylabel(\"y\") # ось ординат\n",
    "plt.grid() # включение отображение сетки\n",
    "plt.plot(x, y, \"r--\") # построение графика"
   ]
  },
  {
   "cell_type": "markdown",
   "id": "fc80eda5",
   "metadata": {},
   "source": [
    "### Несколько графиков на одном поле"
   ]
  },
  {
   "cell_type": "code",
   "execution_count": null,
   "id": "a830cec7",
   "metadata": {},
   "outputs": [],
   "source": [
    "# Линейная зависимость\n",
    "x = np.linspace(0, 10, 50)\n",
    "y1 = x\n",
    "# Квадратичная зависимость\n",
    "y2 = [i**2 for i in x]\n",
    "# Построение графика\n",
    "plt.title(\"Зависимости: y1 = x, y2 = x^2\") # заголовок\n",
    "plt.xlabel(\"x\") # ось абсцисс\n",
    "plt.ylabel(\"y1, y2\") # ось ординат\n",
    "plt.grid() # включение отображение сетки\n",
    "plt.plot(x, y1, x, y2) # построение графика"
   ]
  },
  {
   "cell_type": "markdown",
   "id": "ddf37f40",
   "metadata": {},
   "source": [
    "### Несколько разделенных полей с графиками"
   ]
  },
  {
   "cell_type": "code",
   "execution_count": null,
   "id": "c909f960",
   "metadata": {},
   "outputs": [],
   "source": [
    "# Линейная зависимость\n",
    "x = np.linspace(0, 10, 50)\n",
    "y1 = x\n",
    "# Квадратичная зависимость\n",
    "y2 = [i**2 for i in x]\n",
    "# Построение графиков\n",
    "plt.figure(figsize=(9, 9))\n",
    "plt.subplot(2, 1, 1)\n",
    "plt.plot(x, y1) # построение графика\n",
    "plt.title(\"Зависимости: y1 = x, y2 = x^2\") # заголовок\n",
    "plt.ylabel(\"y1\", fontsize=14) # ось ординат\n",
    "plt.grid(True) # включение отображение сетки\n",
    "plt.subplot(2, 1, 2)\n",
    "plt.plot(x, y2) # построение графика\n",
    "plt.xlabel(\"x\", fontsize=14) # ось абсцисс\n",
    "plt.ylabel(\"y2\", fontsize=14) # ось ординат\n",
    "plt.grid(True) # включение отображения сетки"
   ]
  },
  {
   "cell_type": "markdown",
   "id": "6671ddb6",
   "metadata": {},
   "source": [
    "### Построение диаграммы для категориальных данных"
   ]
  },
  {
   "cell_type": "code",
   "execution_count": null,
   "id": "b3ef67bf",
   "metadata": {},
   "outputs": [],
   "source": [
    "fruits = [\"apple\", \"peach\", \"orange\", \"bannana\", \"melon\"]\n",
    "counts = [34, 25, 43, 31, 17]\n",
    "plt.bar(fruits, counts)\n",
    "plt.title(\"Fruits!\")\n",
    "plt.xlabel(\"Fruit\")\n",
    "plt.ylabel(\"Count\")"
   ]
  },
  {
   "cell_type": "markdown",
   "id": "63b994d0",
   "metadata": {},
   "source": [
    "### Основные элементы графика"
   ]
  },
  {
   "cell_type": "code",
   "execution_count": null,
   "id": "c8252d76",
   "metadata": {},
   "outputs": [],
   "source": [
    "import matplotlib.pyplot as plt\n",
    "from matplotlib.ticker import (MultipleLocator, FormatStrFormatter,\n",
    "\n",
    "AutoMinorLocator)\n",
    "\n",
    "import numpy as np\n",
    "x = np.linspace(0, 10, 10)\n",
    "y1 = 4*x\n",
    "y2 = [i**2 for i in x]\n",
    "fig, ax = plt.subplots(figsize=(8, 6))\n",
    "ax.set_title(\"Графики зависимостей: y1=4*x, y2=x^2\", fontsize=16)\n",
    "ax.set_xlabel(\"x\", fontsize=14)\n",
    "ax.set_ylabel(\"y1, y2\", fontsize=14)\n",
    "ax.grid(which=\"major\", linewidth=1.2)\n",
    "ax.grid(which=\"minor\", linestyle=\"--\", color=\"gray\", linewidth=0.5)\n",
    "ax.scatter(x, y1, c=\"red\", label=\"y1 = 4*x\")\n",
    "ax.plot(x, y2, label=\"y2 = x^2\")\n",
    "ax.legend()\n",
    "ax.xaxis.set_minor_locator(AutoMinorLocator())\n",
    "ax.yaxis.set_minor_locator(AutoMinorLocator())\n",
    "ax.tick_params(which='major', length=10, width=2)\n",
    "ax.tick_params(which='minor', length=5, width=1)\n",
    "plt.show()"
   ]
  },
  {
   "cell_type": "markdown",
   "id": "5d0c7fd2",
   "metadata": {},
   "source": [
    "### Текстовые надписи на графике"
   ]
  },
  {
   "cell_type": "code",
   "execution_count": null,
   "id": "2d2a3209",
   "metadata": {},
   "outputs": [],
   "source": [
    "x = [1, 5, 10, 15, 20]\n",
    "y = [1, 7, 3, 5, 11]\n",
    "plt.plot(x, y, label='steel price')\n",
    "plt.title('Chart price', fontsize=15)\n",
    "plt.xlabel('Day', fontsize=12, color='blue')\n",
    "plt.ylabel('Price', fontsize=12, color='blue')\n",
    "plt.legend()\n",
    "plt.grid(True)\n",
    "plt.text(15, 4, 'grow up!')"
   ]
  },
  {
   "cell_type": "markdown",
   "id": "e08377dd",
   "metadata": {},
   "source": [
    "### Работа с линейным графиком"
   ]
  },
  {
   "cell_type": "code",
   "execution_count": null,
   "id": "be65f4ce",
   "metadata": {},
   "outputs": [],
   "source": [
    "x = [1, 5, 10, 15, 20]\n",
    "y = [1, 7, 3, 5, 11]\n",
    "plt.plot(x, y, '--')"
   ]
  },
  {
   "cell_type": "code",
   "execution_count": null,
   "id": "355ec7da",
   "metadata": {},
   "outputs": [],
   "source": [
    "x = [1, 5, 10, 15, 20]\n",
    "y = [1, 7, 3, 5, 11]\n",
    "line = plt.plot(x, y)\n",
    "plt.setp(line, linestyle='--')"
   ]
  },
  {
   "cell_type": "code",
   "execution_count": null,
   "id": "366526d7",
   "metadata": {},
   "outputs": [],
   "source": [
    "x = [1, 5, 10, 15, 20]\n",
    "y1 = [1, 7, 3, 5, 11]\n",
    "y2 = [i*1.2 + 1 for i in y1]\n",
    "y3 = [i*1.2 + 1 for i in y2]\n",
    "y4 = [i*1.2 + 1 for i in y3]\n",
    "plt.plot(x, y1, '-', x, y2, '--', x, y3, '-.', x, y4, ':')"
   ]
  },
  {
   "cell_type": "code",
   "execution_count": null,
   "id": "d9d2accb",
   "metadata": {},
   "outputs": [],
   "source": [
    "plt.plot(x, y1, '-')\n",
    "plt.plot(x, y2, '--')\n",
    "plt.plot(x, y3, '-.')\n",
    "plt.plot(x, y4, ':')"
   ]
  },
  {
   "cell_type": "markdown",
   "id": "d2dc93d7",
   "metadata": {},
   "source": [
    "### Цвет линии"
   ]
  },
  {
   "cell_type": "code",
   "execution_count": null,
   "id": "eb7db5b9",
   "metadata": {},
   "outputs": [],
   "source": [
    "x = [1, 5, 10, 15, 20]\n",
    "y = [1, 7, 3, 5, 11]\n",
    "plt.plot(x, y, '--r')"
   ]
  },
  {
   "cell_type": "markdown",
   "id": "578101e4",
   "metadata": {},
   "source": [
    "### Тип графика"
   ]
  },
  {
   "cell_type": "code",
   "execution_count": null,
   "id": "13c55506",
   "metadata": {},
   "outputs": [],
   "source": [
    "plt.plot(x, y, 'ro')"
   ]
  },
  {
   "cell_type": "code",
   "execution_count": null,
   "id": "2ddadf89",
   "metadata": {},
   "outputs": [],
   "source": [
    "plt.plot(x, y, 'bx')"
   ]
  },
  {
   "cell_type": "markdown",
   "id": "f079c01c",
   "metadata": {},
   "source": [
    "### Работа с функцией subplot()"
   ]
  },
  {
   "cell_type": "code",
   "execution_count": null,
   "id": "6b4b3b3d",
   "metadata": {},
   "outputs": [],
   "source": [
    "# Исходный набор данных\n",
    "x = [1, 5, 10, 15, 20]\n",
    "y1 = [1, 7, 3, 5, 11]\n",
    "y2 = [i*1.2 + 1 for i in y1]\n",
    "y3 = [i*1.2 + 1 for i in y2]\n",
    "y4 = [i*1.2 + 1 for i in y3]\n",
    "# Настройка размеров подложки\n",
    "plt.figure(figsize=(12, 7))\n",
    "# Вывод графиков\n",
    "plt.subplot(2, 2, 1)\n",
    "plt.plot(x, y1, '-')\n",
    "plt.subplot(2, 2, 2)\n",
    "plt.plot(x, y2, '--')\n",
    "plt.subplot(2, 2, 3)\n",
    "plt.plot(x, y3, '-.')\n",
    "plt.subplot(2, 2, 4)\n",
    "plt.plot(x, y4, ':')"
   ]
  },
  {
   "cell_type": "markdown",
   "id": "c7b080ec",
   "metadata": {},
   "source": [
    "### Второй вариант использования subplot()"
   ]
  },
  {
   "cell_type": "code",
   "execution_count": null,
   "id": "a9579e8b",
   "metadata": {},
   "outputs": [],
   "source": [
    "# Вывод графиков\n",
    "plt.subplot(221)\n",
    "plt.plot(x, y1, '-')\n",
    "plt.subplot(222)\n",
    "plt.plot(x, y2, '--')\n",
    "plt.subplot(223)\n",
    "plt.plot(x, y3, '-.')\n",
    "plt.subplot(224)\n",
    "plt.plot(x, y4, ':')"
   ]
  },
  {
   "cell_type": "markdown",
   "id": "e1cd4e2f",
   "metadata": {},
   "source": [
    "### Работа с функцией subplots()"
   ]
  },
  {
   "cell_type": "code",
   "execution_count": null,
   "id": "263908f2",
   "metadata": {},
   "outputs": [],
   "source": [
    "fig, axs = plt.subplots(2, 2, figsize=(12, 7))\n",
    "axs[0, 0].plot(x, y1, '-')\n",
    "axs[0, 1].plot(x, y2, '--')\n",
    "axs[1, 0].plot(x, y3, '-.')\n",
    "axs[1, 1].plot(x, y4, ':')"
   ]
  }
 ],
 "metadata": {
  "kernelspec": {
   "display_name": "Python 3",
   "language": "python",
   "name": "python3"
  },
  "language_info": {
   "codemirror_mode": {
    "name": "ipython",
    "version": 3
   },
   "file_extension": ".py",
   "mimetype": "text/x-python",
   "name": "python",
   "nbconvert_exporter": "python",
   "pygments_lexer": "ipython3",
   "version": "3.8.8"
  }
 },
 "nbformat": 4,
 "nbformat_minor": 5
}
